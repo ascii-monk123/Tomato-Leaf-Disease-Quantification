{
 "cells": [
  {
   "cell_type": "code",
   "execution_count": 27,
   "id": "metallic-leone",
   "metadata": {},
   "outputs": [],
   "source": [
    "import pandas as pd\n",
    "import numpy as np\n",
    "import matplotlib.pyplot as plt\n",
    "import seaborn as sns\n",
    "import openpyxl"
   ]
  },
  {
   "cell_type": "code",
   "execution_count": 28,
   "id": "weekly-overall",
   "metadata": {},
   "outputs": [],
   "source": [
    "#read the csv file\n",
    "filePath=\"Results_LB.xlsx\"\n",
    "\n",
    "df=pd.read_excel(filePath)\n",
    "\n",
    "#removing the first row\n",
    "df=df.iloc[1:]\n",
    "df.rename(columns={\"Unnamed: 4\":'H Channel',\"Unnamed: 8\":'A Channel'},inplace=True)\n",
    "\n",
    "df.head(5)\n",
    "\n"
   ]
  },
  {
   "cell_type": "markdown",
   "id": "macro-broadcasting",
   "metadata": {},
   "source": [
    "<h2>Adding a new early blight sample column</h2>"
   ]
  },
  {
   "cell_type": "code",
   "execution_count": 25,
   "id": "national-xerox",
   "metadata": {},
   "outputs": [
    {
     "data": {
      "text/html": [
       "<div>\n",
       "<style scoped>\n",
       "    .dataframe tbody tr th:only-of-type {\n",
       "        vertical-align: middle;\n",
       "    }\n",
       "\n",
       "    .dataframe tbody tr th {\n",
       "        vertical-align: top;\n",
       "    }\n",
       "\n",
       "    .dataframe thead th {\n",
       "        text-align: right;\n",
       "    }\n",
       "</style>\n",
       "<table border=\"1\" class=\"dataframe\">\n",
       "  <thead>\n",
       "    <tr style=\"text-align: right;\">\n",
       "      <th></th>\n",
       "      <th>S.NO</th>\n",
       "      <th>Disease</th>\n",
       "      <th>Hsv results</th>\n",
       "      <th>Unnamed: 3</th>\n",
       "      <th>H Channel</th>\n",
       "      <th>Unnamed: 5</th>\n",
       "      <th>Lab results</th>\n",
       "      <th>Lab results</th>\n",
       "      <th>A Channel</th>\n",
       "      <th>Sample</th>\n",
       "    </tr>\n",
       "  </thead>\n",
       "  <tbody>\n",
       "    <tr>\n",
       "      <th>1</th>\n",
       "      <td>1.0</td>\n",
       "      <td>Late Blight</td>\n",
       "      <td>15585</td>\n",
       "      <td>10699</td>\n",
       "      <td>68.649342</td>\n",
       "      <td>NaN</td>\n",
       "      <td>15585</td>\n",
       "      <td>0</td>\n",
       "      <td>0</td>\n",
       "      <td>1</td>\n",
       "    </tr>\n",
       "    <tr>\n",
       "      <th>2</th>\n",
       "      <td>2.0</td>\n",
       "      <td>Late Blight</td>\n",
       "      <td>39862</td>\n",
       "      <td>8068</td>\n",
       "      <td>20.239827</td>\n",
       "      <td>NaN</td>\n",
       "      <td>39862</td>\n",
       "      <td>10576</td>\n",
       "      <td>26.531534</td>\n",
       "      <td>2</td>\n",
       "    </tr>\n",
       "    <tr>\n",
       "      <th>3</th>\n",
       "      <td>3.0</td>\n",
       "      <td>Late Blight</td>\n",
       "      <td>27306</td>\n",
       "      <td>1362</td>\n",
       "      <td>4.987915</td>\n",
       "      <td>NaN</td>\n",
       "      <td>27306</td>\n",
       "      <td>1838</td>\n",
       "      <td>6.731121</td>\n",
       "      <td>3</td>\n",
       "    </tr>\n",
       "    <tr>\n",
       "      <th>4</th>\n",
       "      <td>4.0</td>\n",
       "      <td>Late Blight</td>\n",
       "      <td>37745</td>\n",
       "      <td>4851</td>\n",
       "      <td>12.852033</td>\n",
       "      <td>NaN</td>\n",
       "      <td>37745</td>\n",
       "      <td>3785</td>\n",
       "      <td>10.027818</td>\n",
       "      <td>4</td>\n",
       "    </tr>\n",
       "    <tr>\n",
       "      <th>5</th>\n",
       "      <td>5.0</td>\n",
       "      <td>Late Blight</td>\n",
       "      <td>13333</td>\n",
       "      <td>463</td>\n",
       "      <td>3.472587</td>\n",
       "      <td>NaN</td>\n",
       "      <td>13333</td>\n",
       "      <td>653</td>\n",
       "      <td>4.897622</td>\n",
       "      <td>5</td>\n",
       "    </tr>\n",
       "  </tbody>\n",
       "</table>\n",
       "</div>"
      ],
      "text/plain": [
       "   S.NO      Disease  \\\n",
       "1   1.0  Late Blight   \n",
       "2   2.0  Late Blight   \n",
       "3   3.0  Late Blight   \n",
       "4   4.0  Late Blight   \n",
       "5   5.0  Late Blight   \n",
       "\n",
       "                                Hsv results                        Unnamed: 3  \\\n",
       "1                                              15585                    10699   \n",
       "2                                              39862                     8068   \n",
       "3                                              27306                     1362   \n",
       "4                                              37745                     4851   \n",
       "5                                              13333                      463   \n",
       "\n",
       "   H Channel  Unnamed: 5  \\\n",
       "1  68.649342         NaN   \n",
       "2  20.239827         NaN   \n",
       "3   4.987915         NaN   \n",
       "4  12.852033         NaN   \n",
       "5   3.472587         NaN   \n",
       "\n",
       "                                  Lab results                  \\\n",
       "1                                              15585            \n",
       "2                                              39862            \n",
       "3                                              27306            \n",
       "4                                              37745            \n",
       "5                                              13333            \n",
       "\n",
       "         Lab results     A Channel Sample  \n",
       "1                     0          0      1  \n",
       "2                 10576  26.531534      2  \n",
       "3                  1838   6.731121      3  \n",
       "4                  3785  10.027818      4  \n",
       "5                   653   4.897622      5  "
      ]
     },
     "execution_count": 25,
     "metadata": {},
     "output_type": "execute_result"
    }
   ],
   "source": [
    "sample_names=list(map(lambda tup:'{}'.format(tup[0]+1),enumerate(df[\"Disease\"])))\n",
    "df['Sample']=sample_names\n",
    "df.head(5)\n"
   ]
  },
  {
   "cell_type": "code",
   "execution_count": 23,
   "id": "graduate-consent",
   "metadata": {},
   "outputs": [
    {
     "data": {
      "image/png": "[encoded data removed]",
      "text/plain": [
       "<Figure size 504x360 with 1 Axes>"
      ]
     },
     "metadata": {
      "needs_background": "light"
     },
     "output_type": "display_data"
    }
   ],
   "source": [
    "\n",
    "#plotting the bar chart\n",
    "df.iloc[0:20].plot.bar(x=\"Sample\",y=[\"H Channel\",\"A Channel\"],rot=40,figsize=(7,5))\n",
    "plt.ylabel(\"Percentage Diseased\")\n",
    "plt.show()"
   ]
  },
  {
   "cell_type": "code",
   "execution_count": null,
   "id": "recognized-assurance",
   "metadata": {},
   "outputs": [],
   "source": []
  }
 ],
 "metadata": {
  "kernelspec": {
   "display_name": "Python 3",
   "language": "python",
   "name": "python3"
  },
  "language_info": {
   "codemirror_mode": {
    "name": "ipython",
    "version": 3
   },
   "file_extension": ".py",
   "mimetype": "text/x-python",
   "name": "python",
   "nbconvert_exporter": "python",
   "pygments_lexer": "ipython3",
   "version": "3.8.5"
  }
 },
 "nbformat": 4,
 "nbformat_minor": 5
}
