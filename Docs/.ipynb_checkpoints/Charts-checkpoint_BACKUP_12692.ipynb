{
 "cells": [
  {
   "cell_type": "code",
<<<<<<< HEAD
   "execution_count": 1,
   "id": "better-eating",
=======
   "execution_count": 27,
   "id": "metallic-leone",
>>>>>>> 150474369c38f3c5b260dca0cb549989b239b413
   "metadata": {},
   "outputs": [],
   "source": [
    "import pandas as pd\n",
    "import numpy as np\n",
    "import matplotlib.pyplot as plt\n",
    "import seaborn as sns\n",
    "import openpyxl"
   ]
  },
  {
   "cell_type": "code",
<<<<<<< HEAD
   "execution_count": 3,
   "id": "divine-detection",
   "metadata": {},
   "outputs": [
    {
     "data": {
      "text/html": [
       "<div>\n",
       "<style scoped>\n",
       "    .dataframe tbody tr th:only-of-type {\n",
       "        vertical-align: middle;\n",
       "    }\n",
       "\n",
       "    .dataframe tbody tr th {\n",
       "        vertical-align: top;\n",
       "    }\n",
       "\n",
       "    .dataframe thead th {\n",
       "        text-align: right;\n",
       "    }\n",
       "</style>\n",
       "<table border=\"1\" class=\"dataframe\">\n",
       "  <thead>\n",
       "    <tr style=\"text-align: right;\">\n",
       "      <th></th>\n",
       "      <th>S.No.</th>\n",
       "      <th>Disease Type</th>\n",
       "      <th>HSV Results</th>\n",
       "      <th>Unnamed: 3</th>\n",
       "      <th>H Channel</th>\n",
       "      <th>Unnamed: 5</th>\n",
       "      <th>Lab Results</th>\n",
       "      <th>Unnamed: 7</th>\n",
       "      <th>A Channel</th>\n",
       "      <th>Unnamed: 9</th>\n",
       "    </tr>\n",
       "  </thead>\n",
       "  <tbody>\n",
       "    <tr>\n",
       "      <th>1</th>\n",
       "      <td>1.0</td>\n",
       "      <td>Early Blight</td>\n",
       "      <td>35397</td>\n",
       "      <td>2482</td>\n",
       "      <td>7.011894</td>\n",
       "      <td>NaN</td>\n",
       "      <td>35397</td>\n",
       "      <td>1829</td>\n",
       "      <td>5.167105</td>\n",
       "      <td>NaN</td>\n",
       "    </tr>\n",
       "    <tr>\n",
       "      <th>2</th>\n",
       "      <td>2.0</td>\n",
       "      <td>Early Blight</td>\n",
       "      <td>30100</td>\n",
       "      <td>516</td>\n",
       "      <td>1.714286</td>\n",
       "      <td>NaN</td>\n",
       "      <td>30100</td>\n",
       "      <td>614</td>\n",
       "      <td>2.039867</td>\n",
       "      <td>NaN</td>\n",
       "    </tr>\n",
       "    <tr>\n",
       "      <th>3</th>\n",
       "      <td>3.0</td>\n",
       "      <td>Early Blight</td>\n",
       "      <td>43318</td>\n",
       "      <td>8922</td>\n",
       "      <td>20.596519</td>\n",
       "      <td>NaN</td>\n",
       "      <td>43318</td>\n",
       "      <td>2185</td>\n",
       "      <td>5.044093</td>\n",
       "      <td>NaN</td>\n",
       "    </tr>\n",
       "    <tr>\n",
       "      <th>4</th>\n",
       "      <td>4.0</td>\n",
       "      <td>Early Blight</td>\n",
       "      <td>28800</td>\n",
       "      <td>1660</td>\n",
       "      <td>5.763889</td>\n",
       "      <td>NaN</td>\n",
       "      <td>28800</td>\n",
       "      <td>1848</td>\n",
       "      <td>6.416667</td>\n",
       "      <td>NaN</td>\n",
       "    </tr>\n",
       "    <tr>\n",
       "      <th>5</th>\n",
       "      <td>5.0</td>\n",
       "      <td>Early Blight</td>\n",
       "      <td>50222</td>\n",
       "      <td>5286</td>\n",
       "      <td>10.525268</td>\n",
       "      <td>NaN</td>\n",
       "      <td>50222</td>\n",
       "      <td>1328</td>\n",
       "      <td>2.644259</td>\n",
       "      <td>NaN</td>\n",
       "    </tr>\n",
       "  </tbody>\n",
       "</table>\n",
       "</div>"
      ],
      "text/plain": [
       "   S.No.  Disease Type HSV Results  Unnamed: 3  H Channel  Unnamed: 5  \\\n",
       "1    1.0  Early Blight        35397       2482   7.011894         NaN   \n",
       "2    2.0  Early Blight        30100        516   1.714286         NaN   \n",
       "3    3.0  Early Blight        43318       8922  20.596519         NaN   \n",
       "4    4.0  Early Blight        28800       1660   5.763889         NaN   \n",
       "5    5.0  Early Blight        50222       5286  10.525268         NaN   \n",
       "\n",
       "  Lab Results Unnamed: 7 A Channel  Unnamed: 9  \n",
       "1       35397       1829  5.167105         NaN  \n",
       "2       30100        614  2.039867         NaN  \n",
       "3       43318       2185  5.044093         NaN  \n",
       "4       28800       1848  6.416667         NaN  \n",
       "5       50222       1328  2.644259         NaN  "
      ]
     },
     "execution_count": 3,
     "metadata": {},
     "output_type": "execute_result"
    }
   ],
   "source": [
    "#read the csv file\n",
    "filePath=\"Results_EB.xlsx\"\n",
=======
   "execution_count": 28,
   "id": "weekly-overall",
   "metadata": {},
   "outputs": [],
   "source": [
    "#read the csv file\n",
    "filePath=\"Results_LB.xlsx\"\n",
>>>>>>> 150474369c38f3c5b260dca0cb549989b239b413
    "\n",
    "df=pd.read_excel(filePath)\n",
    "\n",
    "#removing the first row\n",
    "df=df.iloc[1:]\n",
    "df.rename(columns={\"Unnamed: 4\":'H Channel',\"Unnamed: 8\":'A Channel'},inplace=True)\n",
    "\n",
    "df.head(5)\n",
    "\n"
   ]
  },
  {
   "cell_type": "markdown",
<<<<<<< HEAD
   "id": "educational-recorder",
=======
   "id": "macro-broadcasting",
>>>>>>> 150474369c38f3c5b260dca0cb549989b239b413
   "metadata": {},
   "source": [
    "<h2>Adding a new early blight sample column</h2>"
   ]
  },
  {
   "cell_type": "code",
<<<<<<< HEAD
   "execution_count": 5,
   "id": "intended-bunny",
=======
   "execution_count": 25,
   "id": "national-xerox",
>>>>>>> 150474369c38f3c5b260dca0cb549989b239b413
   "metadata": {},
   "outputs": [
    {
     "data": {
      "text/html": [
       "<div>\n",
       "<style scoped>\n",
       "    .dataframe tbody tr th:only-of-type {\n",
       "        vertical-align: middle;\n",
       "    }\n",
       "\n",
       "    .dataframe tbody tr th {\n",
       "        vertical-align: top;\n",
       "    }\n",
       "\n",
       "    .dataframe thead th {\n",
       "        text-align: right;\n",
       "    }\n",
       "</style>\n",
       "<table border=\"1\" class=\"dataframe\">\n",
       "  <thead>\n",
       "    <tr style=\"text-align: right;\">\n",
       "      <th></th>\n",
<<<<<<< HEAD
       "      <th>S.No.</th>\n",
       "      <th>Disease Type</th>\n",
       "      <th>HSV Results</th>\n",
       "      <th>Unnamed: 3</th>\n",
       "      <th>H Channel</th>\n",
       "      <th>Unnamed: 5</th>\n",
       "      <th>Lab Results</th>\n",
       "      <th>Unnamed: 7</th>\n",
       "      <th>A Channel</th>\n",
       "      <th>Unnamed: 9</th>\n",
=======
       "      <th>S.NO</th>\n",
       "      <th>Disease</th>\n",
       "      <th>Hsv results</th>\n",
       "      <th>Unnamed: 3</th>\n",
       "      <th>H Channel</th>\n",
       "      <th>Unnamed: 5</th>\n",
       "      <th>Lab results</th>\n",
       "      <th>Lab results</th>\n",
       "      <th>A Channel</th>\n",
>>>>>>> 150474369c38f3c5b260dca0cb549989b239b413
       "      <th>Sample</th>\n",
       "    </tr>\n",
       "  </thead>\n",
       "  <tbody>\n",
       "    <tr>\n",
       "      <th>1</th>\n",
       "      <td>1.0</td>\n",
<<<<<<< HEAD
       "      <td>Early Blight</td>\n",
       "      <td>35397</td>\n",
       "      <td>2482</td>\n",
       "      <td>7.011894</td>\n",
       "      <td>NaN</td>\n",
       "      <td>35397</td>\n",
       "      <td>1829</td>\n",
       "      <td>5.167105</td>\n",
       "      <td>NaN</td>\n",
=======
       "      <td>Late Blight</td>\n",
       "      <td>15585</td>\n",
       "      <td>10699</td>\n",
       "      <td>68.649342</td>\n",
       "      <td>NaN</td>\n",
       "      <td>15585</td>\n",
       "      <td>0</td>\n",
       "      <td>0</td>\n",
>>>>>>> 150474369c38f3c5b260dca0cb549989b239b413
       "      <td>1</td>\n",
       "    </tr>\n",
       "    <tr>\n",
       "      <th>2</th>\n",
       "      <td>2.0</td>\n",
<<<<<<< HEAD
       "      <td>Early Blight</td>\n",
       "      <td>30100</td>\n",
       "      <td>516</td>\n",
       "      <td>1.714286</td>\n",
       "      <td>NaN</td>\n",
       "      <td>30100</td>\n",
       "      <td>614</td>\n",
       "      <td>2.039867</td>\n",
       "      <td>NaN</td>\n",
=======
       "      <td>Late Blight</td>\n",
       "      <td>39862</td>\n",
       "      <td>8068</td>\n",
       "      <td>20.239827</td>\n",
       "      <td>NaN</td>\n",
       "      <td>39862</td>\n",
       "      <td>10576</td>\n",
       "      <td>26.531534</td>\n",
>>>>>>> 150474369c38f3c5b260dca0cb549989b239b413
       "      <td>2</td>\n",
       "    </tr>\n",
       "    <tr>\n",
       "      <th>3</th>\n",
       "      <td>3.0</td>\n",
<<<<<<< HEAD
       "      <td>Early Blight</td>\n",
       "      <td>43318</td>\n",
       "      <td>8922</td>\n",
       "      <td>20.596519</td>\n",
       "      <td>NaN</td>\n",
       "      <td>43318</td>\n",
       "      <td>2185</td>\n",
       "      <td>5.044093</td>\n",
       "      <td>NaN</td>\n",
=======
       "      <td>Late Blight</td>\n",
       "      <td>27306</td>\n",
       "      <td>1362</td>\n",
       "      <td>4.987915</td>\n",
       "      <td>NaN</td>\n",
       "      <td>27306</td>\n",
       "      <td>1838</td>\n",
       "      <td>6.731121</td>\n",
>>>>>>> 150474369c38f3c5b260dca0cb549989b239b413
       "      <td>3</td>\n",
       "    </tr>\n",
       "    <tr>\n",
       "      <th>4</th>\n",
       "      <td>4.0</td>\n",
<<<<<<< HEAD
       "      <td>Early Blight</td>\n",
       "      <td>28800</td>\n",
       "      <td>1660</td>\n",
       "      <td>5.763889</td>\n",
       "      <td>NaN</td>\n",
       "      <td>28800</td>\n",
       "      <td>1848</td>\n",
       "      <td>6.416667</td>\n",
       "      <td>NaN</td>\n",
=======
       "      <td>Late Blight</td>\n",
       "      <td>37745</td>\n",
       "      <td>4851</td>\n",
       "      <td>12.852033</td>\n",
       "      <td>NaN</td>\n",
       "      <td>37745</td>\n",
       "      <td>3785</td>\n",
       "      <td>10.027818</td>\n",
>>>>>>> 150474369c38f3c5b260dca0cb549989b239b413
       "      <td>4</td>\n",
       "    </tr>\n",
       "    <tr>\n",
       "      <th>5</th>\n",
       "      <td>5.0</td>\n",
<<<<<<< HEAD
       "      <td>Early Blight</td>\n",
       "      <td>50222</td>\n",
       "      <td>5286</td>\n",
       "      <td>10.525268</td>\n",
       "      <td>NaN</td>\n",
       "      <td>50222</td>\n",
       "      <td>1328</td>\n",
       "      <td>2.644259</td>\n",
       "      <td>NaN</td>\n",
=======
       "      <td>Late Blight</td>\n",
       "      <td>13333</td>\n",
       "      <td>463</td>\n",
       "      <td>3.472587</td>\n",
       "      <td>NaN</td>\n",
       "      <td>13333</td>\n",
       "      <td>653</td>\n",
       "      <td>4.897622</td>\n",
>>>>>>> 150474369c38f3c5b260dca0cb549989b239b413
       "      <td>5</td>\n",
       "    </tr>\n",
       "  </tbody>\n",
       "</table>\n",
       "</div>"
      ],
      "text/plain": [
<<<<<<< HEAD
       "   S.No.  Disease Type HSV Results  Unnamed: 3  H Channel  Unnamed: 5  \\\n",
       "1    1.0  Early Blight        35397       2482   7.011894         NaN   \n",
       "2    2.0  Early Blight        30100        516   1.714286         NaN   \n",
       "3    3.0  Early Blight        43318       8922  20.596519         NaN   \n",
       "4    4.0  Early Blight        28800       1660   5.763889         NaN   \n",
       "5    5.0  Early Blight        50222       5286  10.525268         NaN   \n",
       "\n",
       "  Lab Results Unnamed: 7 A Channel  Unnamed: 9 Sample  \n",
       "1       35397       1829  5.167105         NaN      1  \n",
       "2       30100        614  2.039867         NaN      2  \n",
       "3       43318       2185  5.044093         NaN      3  \n",
       "4       28800       1848  6.416667         NaN      4  \n",
       "5       50222       1328  2.644259         NaN      5  "
      ]
     },
     "execution_count": 5,
=======
       "   S.NO      Disease  \\\n",
       "1   1.0  Late Blight   \n",
       "2   2.0  Late Blight   \n",
       "3   3.0  Late Blight   \n",
       "4   4.0  Late Blight   \n",
       "5   5.0  Late Blight   \n",
       "\n",
       "                                Hsv results                        Unnamed: 3  \\\n",
       "1                                              15585                    10699   \n",
       "2                                              39862                     8068   \n",
       "3                                              27306                     1362   \n",
       "4                                              37745                     4851   \n",
       "5                                              13333                      463   \n",
       "\n",
       "   H Channel  Unnamed: 5  \\\n",
       "1  68.649342         NaN   \n",
       "2  20.239827         NaN   \n",
       "3   4.987915         NaN   \n",
       "4  12.852033         NaN   \n",
       "5   3.472587         NaN   \n",
       "\n",
       "                                  Lab results                  \\\n",
       "1                                              15585            \n",
       "2                                              39862            \n",
       "3                                              27306            \n",
       "4                                              37745            \n",
       "5                                              13333            \n",
       "\n",
       "         Lab results     A Channel Sample  \n",
       "1                     0          0      1  \n",
       "2                 10576  26.531534      2  \n",
       "3                  1838   6.731121      3  \n",
       "4                  3785  10.027818      4  \n",
       "5                   653   4.897622      5  "
      ]
     },
     "execution_count": 25,
>>>>>>> 150474369c38f3c5b260dca0cb549989b239b413
     "metadata": {},
     "output_type": "execute_result"
    }
   ],
   "source": [
<<<<<<< HEAD
    "sample_names=list(map(lambda tup:'{}'.format(tup[0]+1),enumerate(df[\"Disease Type\"])))\n",
=======
    "sample_names=list(map(lambda tup:'{}'.format(tup[0]+1),enumerate(df[\"Disease\"])))\n",
>>>>>>> 150474369c38f3c5b260dca0cb549989b239b413
    "df['Sample']=sample_names\n",
    "df.head(5)\n"
   ]
  },
  {
   "cell_type": "code",
<<<<<<< HEAD
   "execution_count": 32,
   "id": "amateur-wagner",
=======
   "execution_count": 23,
   "id": "graduate-consent",
>>>>>>> 150474369c38f3c5b260dca0cb549989b239b413
   "metadata": {},
   "outputs": [
    {
     "data": {
<<<<<<< HEAD
      "image/png": "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\n",
=======
      "image/png": "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\n",
>>>>>>> 150474369c38f3c5b260dca0cb549989b239b413
      "text/plain": [
       "<Figure size 504x360 with 1 Axes>"
      ]
     },
     "metadata": {
      "needs_background": "light"
     },
     "output_type": "display_data"
    }
   ],
   "source": [
    "\n",
    "#plotting the bar chart\n",
    "df.iloc[0:20].plot.bar(x=\"Sample\",y=[\"H Channel\",\"A Channel\"],rot=40,figsize=(7,5))\n",
<<<<<<< HEAD
    "plt.ylabel(\"Leaf infected area in %\")\n",
    "plt.xlabel(\"Image Sample\")\n",
=======
    "plt.ylabel(\"Percentage Diseased\")\n",
>>>>>>> 150474369c38f3c5b260dca0cb549989b239b413
    "plt.show()"
   ]
  },
  {
   "cell_type": "code",
   "execution_count": null,
<<<<<<< HEAD
   "id": "regional-shepherd",
=======
   "id": "recognized-assurance",
>>>>>>> 150474369c38f3c5b260dca0cb549989b239b413
   "metadata": {},
   "outputs": [],
   "source": []
  }
 ],
 "metadata": {
  "kernelspec": {
   "display_name": "Python 3",
   "language": "python",
   "name": "python3"
  },
  "language_info": {
   "codemirror_mode": {
    "name": "ipython",
    "version": 3
   },
   "file_extension": ".py",
   "mimetype": "text/x-python",
   "name": "python",
   "nbconvert_exporter": "python",
   "pygments_lexer": "ipython3",
   "version": "3.8.5"
  }
 },
 "nbformat": 4,
 "nbformat_minor": 5
}
