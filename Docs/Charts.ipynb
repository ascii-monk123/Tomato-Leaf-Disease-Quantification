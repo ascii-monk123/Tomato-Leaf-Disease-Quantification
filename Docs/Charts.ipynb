{
 "cells": [
  {
   "cell_type": "code",
<<<<<<< HEAD
   "execution_count": 1,
=======
   "execution_count": 27,
>>>>>>> 150474369c38f3c5b260dca0cb549989b239b413
   "id": "better-eating",
   "metadata": {},
   "outputs": [],
   "source": [
    "import pandas as pd\n",
    "import numpy as np\n",
    "import matplotlib.pyplot as plt\n",
    "import seaborn as sns\n",
    "import openpyxl"
   ]
  },
  {
   "cell_type": "code",
<<<<<<< HEAD
   "execution_count": 7,
=======
   "execution_count": 30,
>>>>>>> 150474369c38f3c5b260dca0cb549989b239b413
   "id": "divine-detection",
   "metadata": {},
   "outputs": [
    {
     "data": {
      "text/html": [
       "<div>\n",
       "<style scoped>\n",
       "    .dataframe tbody tr th:only-of-type {\n",
       "        vertical-align: middle;\n",
       "    }\n",
       "\n",
       "    .dataframe tbody tr th {\n",
       "        vertical-align: top;\n",
       "    }\n",
       "\n",
       "    .dataframe thead th {\n",
       "        text-align: right;\n",
       "    }\n",
       "</style>\n",
       "<table border=\"1\" class=\"dataframe\">\n",
       "  <thead>\n",
       "    <tr style=\"text-align: right;\">\n",
       "      <th></th>\n",
       "      <th>S.NO</th>\n",
       "      <th>Disease</th>\n",
       "      <th>Hsv results</th>\n",
       "      <th>Unnamed: 3</th>\n",
       "      <th>H Channel</th>\n",
       "      <th>Unnamed: 5</th>\n",
       "      <th>Lab results</th>\n",
       "      <th>Lab results</th>\n",
       "      <th>A Channel</th>\n",
       "    </tr>\n",
       "  </thead>\n",
       "  <tbody>\n",
       "    <tr>\n",
       "      <th>1</th>\n",
       "      <td>1.0</td>\n",
       "      <td>Late Blight</td>\n",
       "      <td>15585</td>\n",
       "      <td>10699</td>\n",
       "      <td>68.649342</td>\n",
       "      <td>NaN</td>\n",
       "      <td>15585</td>\n",
       "      <td>0</td>\n",
       "      <td>0</td>\n",
       "    </tr>\n",
       "    <tr>\n",
       "      <th>2</th>\n",
       "      <td>2.0</td>\n",
       "      <td>Late Blight</td>\n",
       "      <td>39862</td>\n",
       "      <td>8068</td>\n",
       "      <td>20.239827</td>\n",
       "      <td>NaN</td>\n",
       "      <td>39862</td>\n",
       "      <td>10576</td>\n",
       "      <td>26.531534</td>\n",
       "    </tr>\n",
       "    <tr>\n",
       "      <th>3</th>\n",
       "      <td>3.0</td>\n",
       "      <td>Late Blight</td>\n",
       "      <td>27306</td>\n",
       "      <td>1362</td>\n",
       "      <td>4.987915</td>\n",
       "      <td>NaN</td>\n",
       "      <td>27306</td>\n",
       "      <td>1838</td>\n",
       "      <td>6.731121</td>\n",
       "    </tr>\n",
       "    <tr>\n",
       "      <th>4</th>\n",
       "      <td>4.0</td>\n",
       "      <td>Late Blight</td>\n",
       "      <td>37745</td>\n",
       "      <td>4851</td>\n",
       "      <td>12.852033</td>\n",
       "      <td>NaN</td>\n",
       "      <td>37745</td>\n",
       "      <td>3785</td>\n",
       "      <td>10.027818</td>\n",
       "    </tr>\n",
       "    <tr>\n",
       "      <th>5</th>\n",
       "      <td>5.0</td>\n",
       "      <td>Late Blight</td>\n",
       "      <td>13333</td>\n",
       "      <td>463</td>\n",
       "      <td>3.472587</td>\n",
       "      <td>NaN</td>\n",
       "      <td>13333</td>\n",
       "      <td>653</td>\n",
       "      <td>4.897622</td>\n",
       "    </tr>\n",
       "  </tbody>\n",
       "</table>\n",
       "</div>"
      ],
      "text/plain": [
       "   S.NO      Disease  \\\n",
       "1   1.0  Late Blight   \n",
       "2   2.0  Late Blight   \n",
       "3   3.0  Late Blight   \n",
       "4   4.0  Late Blight   \n",
       "5   5.0  Late Blight   \n",
       "\n",
       "                                Hsv results                        Unnamed: 3  \\\n",
       "1                                              15585                    10699   \n",
       "2                                              39862                     8068   \n",
       "3                                              27306                     1362   \n",
       "4                                              37745                     4851   \n",
       "5                                              13333                      463   \n",
       "\n",
       "   H Channel  Unnamed: 5  \\\n",
       "1  68.649342         NaN   \n",
       "2  20.239827         NaN   \n",
       "3   4.987915         NaN   \n",
       "4  12.852033         NaN   \n",
       "5   3.472587         NaN   \n",
       "\n",
       "                                  Lab results                  \\\n",
       "1                                              15585            \n",
       "2                                              39862            \n",
       "3                                              27306            \n",
       "4                                              37745            \n",
       "5                                              13333            \n",
       "\n",
       "         Lab results     A Channel  \n",
       "1                     0          0  \n",
       "2                 10576  26.531534  \n",
       "3                  1838   6.731121  \n",
       "4                  3785  10.027818  \n",
       "5                   653   4.897622  "
      ]
     },
<<<<<<< HEAD
     "execution_count": 7,
=======
     "execution_count": 30,
>>>>>>> 150474369c38f3c5b260dca0cb549989b239b413
     "metadata": {},
     "output_type": "execute_result"
    }
   ],
   "source": [
    "#read the csv file\n",
    "filePath=\"Results_LB.xlsx\"\n",
    "\n",
    "df=pd.read_excel(filePath)\n",
    "\n",
    "#removing the first row\n",
    "df=df.iloc[1:]\n",
    "df.rename(columns={\"Unnamed: 4\":'H Channel',\"Unnamed: 8\":'A Channel'},inplace=True)\n",
    "\n",
    "df.head(5)\n",
    "\n"
   ]
  },
  {
   "cell_type": "markdown",
   "id": "educational-recorder",
   "metadata": {},
   "source": [
    "<h2>Adding a new early blight sample column</h2>"
   ]
  },
  {
   "cell_type": "code",
<<<<<<< HEAD
   "execution_count": 8,
=======
   "execution_count": 31,
>>>>>>> 150474369c38f3c5b260dca0cb549989b239b413
   "id": "intended-bunny",
   "metadata": {},
   "outputs": [
    {
     "data": {
      "text/html": [
       "<div>\n",
       "<style scoped>\n",
       "    .dataframe tbody tr th:only-of-type {\n",
       "        vertical-align: middle;\n",
       "    }\n",
       "\n",
       "    .dataframe tbody tr th {\n",
       "        vertical-align: top;\n",
       "    }\n",
       "\n",
       "    .dataframe thead th {\n",
       "        text-align: right;\n",
       "    }\n",
       "</style>\n",
       "<table border=\"1\" class=\"dataframe\">\n",
       "  <thead>\n",
       "    <tr style=\"text-align: right;\">\n",
       "      <th></th>\n",
       "      <th>S.NO</th>\n",
       "      <th>Disease</th>\n",
       "      <th>Hsv results</th>\n",
       "      <th>Unnamed: 3</th>\n",
       "      <th>H Channel</th>\n",
       "      <th>Unnamed: 5</th>\n",
       "      <th>Lab results</th>\n",
       "      <th>Lab results</th>\n",
       "      <th>A Channel</th>\n",
       "      <th>Sample</th>\n",
       "    </tr>\n",
       "  </thead>\n",
       "  <tbody>\n",
       "    <tr>\n",
       "      <th>1</th>\n",
       "      <td>1.0</td>\n",
       "      <td>Late Blight</td>\n",
       "      <td>15585</td>\n",
       "      <td>10699</td>\n",
       "      <td>68.649342</td>\n",
       "      <td>NaN</td>\n",
       "      <td>15585</td>\n",
       "      <td>0</td>\n",
       "      <td>0</td>\n",
       "      <td>1</td>\n",
       "    </tr>\n",
       "    <tr>\n",
       "      <th>2</th>\n",
       "      <td>2.0</td>\n",
       "      <td>Late Blight</td>\n",
       "      <td>39862</td>\n",
       "      <td>8068</td>\n",
       "      <td>20.239827</td>\n",
       "      <td>NaN</td>\n",
       "      <td>39862</td>\n",
       "      <td>10576</td>\n",
       "      <td>26.531534</td>\n",
       "      <td>2</td>\n",
       "    </tr>\n",
       "    <tr>\n",
       "      <th>3</th>\n",
       "      <td>3.0</td>\n",
       "      <td>Late Blight</td>\n",
       "      <td>27306</td>\n",
       "      <td>1362</td>\n",
       "      <td>4.987915</td>\n",
       "      <td>NaN</td>\n",
       "      <td>27306</td>\n",
       "      <td>1838</td>\n",
       "      <td>6.731121</td>\n",
       "      <td>3</td>\n",
       "    </tr>\n",
       "    <tr>\n",
       "      <th>4</th>\n",
       "      <td>4.0</td>\n",
       "      <td>Late Blight</td>\n",
       "      <td>37745</td>\n",
       "      <td>4851</td>\n",
       "      <td>12.852033</td>\n",
       "      <td>NaN</td>\n",
       "      <td>37745</td>\n",
       "      <td>3785</td>\n",
       "      <td>10.027818</td>\n",
       "      <td>4</td>\n",
       "    </tr>\n",
       "    <tr>\n",
       "      <th>5</th>\n",
       "      <td>5.0</td>\n",
       "      <td>Late Blight</td>\n",
       "      <td>13333</td>\n",
       "      <td>463</td>\n",
       "      <td>3.472587</td>\n",
       "      <td>NaN</td>\n",
       "      <td>13333</td>\n",
       "      <td>653</td>\n",
       "      <td>4.897622</td>\n",
       "      <td>5</td>\n",
       "    </tr>\n",
       "  </tbody>\n",
       "</table>\n",
       "</div>"
      ],
      "text/plain": [
       "   S.NO      Disease  \\\n",
       "1   1.0  Late Blight   \n",
       "2   2.0  Late Blight   \n",
       "3   3.0  Late Blight   \n",
       "4   4.0  Late Blight   \n",
       "5   5.0  Late Blight   \n",
       "\n",
       "                                Hsv results                        Unnamed: 3  \\\n",
       "1                                              15585                    10699   \n",
       "2                                              39862                     8068   \n",
       "3                                              27306                     1362   \n",
       "4                                              37745                     4851   \n",
       "5                                              13333                      463   \n",
       "\n",
       "   H Channel  Unnamed: 5  \\\n",
       "1  68.649342         NaN   \n",
       "2  20.239827         NaN   \n",
       "3   4.987915         NaN   \n",
       "4  12.852033         NaN   \n",
       "5   3.472587         NaN   \n",
       "\n",
       "                                  Lab results                  \\\n",
       "1                                              15585            \n",
       "2                                              39862            \n",
       "3                                              27306            \n",
       "4                                              37745            \n",
       "5                                              13333            \n",
       "\n",
       "         Lab results     A Channel Sample  \n",
       "1                     0          0      1  \n",
       "2                 10576  26.531534      2  \n",
       "3                  1838   6.731121      3  \n",
       "4                  3785  10.027818      4  \n",
       "5                   653   4.897622      5  "
      ]
     },
<<<<<<< HEAD
     "execution_count": 8,
=======
     "execution_count": 31,
>>>>>>> 150474369c38f3c5b260dca0cb549989b239b413
     "metadata": {},
     "output_type": "execute_result"
    }
   ],
   "source": [
    "sample_names=list(map(lambda tup:'{}'.format(tup[0]+1),enumerate(df[\"Disease\"])))\n",
    "df['Sample']=sample_names\n",
    "df.head(5)\n"
   ]
  },
  {
   "cell_type": "code",
<<<<<<< HEAD
   "execution_count": 9,
=======
   "execution_count": 32,
>>>>>>> 150474369c38f3c5b260dca0cb549989b239b413
   "id": "amateur-wagner",
   "metadata": {},
   "outputs": [
    {
     "data": {
<<<<<<< HEAD
      "image/png": "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\n",
=======
      "image/png": "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\n",
>>>>>>> 150474369c38f3c5b260dca0cb549989b239b413
      "text/plain": [
       "<Figure size 504x360 with 1 Axes>"
      ]
     },
     "metadata": {
      "needs_background": "light"
     },
     "output_type": "display_data"
    }
   ],
   "source": [
    "\n",
    "#plotting the bar chart\n",
    "df.iloc[0:20].plot.bar(x=\"Sample\",y=[\"H Channel\",\"A Channel\"],rot=40,figsize=(7,5))\n",
<<<<<<< HEAD
    "plt.ylabel(\"Leaf infected area in %\")\n",
    "plt.xlabel(\"Image Sample\")\n",
=======
    "plt.ylabel(\"Percentage Diseased\")\n",
>>>>>>> 150474369c38f3c5b260dca0cb549989b239b413
    "plt.show()"
   ]
  },
  {
   "cell_type": "code",
   "execution_count": null,
   "id": "regional-shepherd",
   "metadata": {},
   "outputs": [],
   "source": []
  }
 ],
 "metadata": {
  "kernelspec": {
   "display_name": "Python 3",
   "language": "python",
   "name": "python3"
  },
  "language_info": {
   "codemirror_mode": {
    "name": "ipython",
    "version": 3
   },
   "file_extension": ".py",
   "mimetype": "text/x-python",
   "name": "python",
   "nbconvert_exporter": "python",
   "pygments_lexer": "ipython3",
   "version": "3.8.5"
  }
 },
 "nbformat": 4,
 "nbformat_minor": 5
}
